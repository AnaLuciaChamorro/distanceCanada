{
 "cells": [
  {
   "cell_type": "code",
   "execution_count": 7,
   "id": "d76ac8e2",
   "metadata": {},
   "outputs": [],
   "source": [
    "import os\n",
    "os.environ['USE_PYGEOS'] = '0'\n",
    "\n",
    "\n",
    "import geopandas as gpd\n",
    "\n",
    "from  fiona import listlayers\n",
    "#link con los mapas\n",
    "canadaMapsLink=\"https://github.com/AnaLuciaChamorro/gdfCanada/raw/main/maps/airports_3347.gpkg\"\n",
    "\n",
    "\n",
    "#layers in maps\n",
    "listlayers(canadaMapsLink)"
   ]
  },
  {
   "cell_type": "code",
   "execution_count": 8,
   "id": "b491e2ee",
   "metadata": {},
   "outputs": [],
   "source": [
    "# reading in the data:\n",
    "airports=gpd.read_file(canadaMapsLink,layer='airports')\n",
    "rivers=gpd.read_file(canadaMapsLink,layer='rivers')"
   ]
  },
  {
   "cell_type": "code",
   "execution_count": null,
   "id": "a1983177",
   "metadata": {},
   "outputs": [],
   "source": []
  },
  {
   "cell_type": "code",
   "execution_count": null,
   "id": "f07b17b2",
   "metadata": {},
   "outputs": [],
   "source": []
  },
  {
   "cell_type": "code",
   "execution_count": null,
   "id": "277173fe",
   "metadata": {},
   "outputs": [],
   "source": []
  },
  {
   "cell_type": "code",
   "execution_count": null,
   "id": "743f3a00",
   "metadata": {},
   "outputs": [],
   "source": []
  },
  {
   "cell_type": "code",
   "execution_count": null,
   "id": "76b8f803",
   "metadata": {},
   "outputs": [],
   "source": []
  },
  {
   "cell_type": "code",
   "execution_count": null,
   "id": "4369b3cf",
   "metadata": {},
   "outputs": [],
   "source": []
  }
 ],
 "metadata": {
  "kernelspec": {
   "display_name": "Python 3 (ipykernel)",
   "language": "python",
   "name": "python3"
  },
  "language_info": {
   "codemirror_mode": {
    "name": "ipython",
    "version": 3
   },
   "file_extension": ".py",
   "mimetype": "text/x-python",
   "name": "python",
   "nbconvert_exporter": "python",
   "pygments_lexer": "ipython3",
   "version": "3.10.11"
  }
 },
 "nbformat": 4,
 "nbformat_minor": 5
}
